{
 "cells": [
  {
   "cell_type": "markdown",
   "id": "3c574c8f",
   "metadata": {},
   "source": [
    "# From normalize notebook"
   ]
  },
  {
   "cell_type": "code",
   "execution_count": 1,
   "id": "5fc4f436",
   "metadata": {},
   "outputs": [],
   "source": [
    "import geopandas as gpd\n",
    "import time\n",
    "import zipfile\n",
    "from getpass import getpass\n",
    "from glob import glob\n",
    "\n",
    "import pygbif.occurrences as occ\n",
    "import pygbif.species as species\n",
    "import requests\n",
    "\n",
    "import earthpy\n",
    "import os\n",
    "import pathlib\n",
    "import pandas as pd\n"
   ]
  },
  {
   "cell_type": "code",
   "execution_count": 2,
   "id": "9a5ed6ca",
   "metadata": {},
   "outputs": [],
   "source": [
    "%store -r gbif_df "
   ]
  },
  {
   "cell_type": "code",
   "execution_count": 3,
   "id": "1ef82a6a",
   "metadata": {},
   "outputs": [
    {
     "name": "stdout",
     "output_type": "stream",
     "text": [
      "<bound method NDFrame.head of             decimalLatitude  decimalLongitude  month  \\\n",
      "gbifID                                                 \n",
      "4923516522        41.852812        -87.611721      5   \n",
      "4444336266        29.755600        -95.739600      4   \n",
      "4444338185        29.950300        -95.445200      3   \n",
      "4444335183        29.629800        -95.323900      4   \n",
      "5196047463        40.003844       -105.028095      5   \n",
      "...                     ...               ...    ...   \n",
      "4173223348        44.366800        -83.563700      5   \n",
      "4444338186        29.806200        -95.557400      4   \n",
      "4444336188        29.955200        -95.560000     10   \n",
      "4444336173        30.131200        -95.778500      2   \n",
      "4444335096        30.146574        -95.642283      4   \n",
      "\n",
      "                              geometry  \n",
      "gbifID                                  \n",
      "4923516522  POINT (-87.61172 41.85281)  \n",
      "4444336266    POINT (-95.7396 29.7556)  \n",
      "4444338185    POINT (-95.4452 29.9503)  \n",
      "4444335183    POINT (-95.3239 29.6298)  \n",
      "5196047463  POINT (-105.0281 40.00384)  \n",
      "...                                ...  \n",
      "4173223348    POINT (-83.5637 44.3668)  \n",
      "4444338186    POINT (-95.5574 29.8062)  \n",
      "4444336188      POINT (-95.56 29.9552)  \n",
      "4444336173    POINT (-95.7785 30.1312)  \n",
      "4444335096  POINT (-95.64228 30.14657)  \n",
      "\n",
      "[2799712 rows x 4 columns]>\n"
     ]
    }
   ],
   "source": [
    "gbif_gdf = gpd.GeoDataFrame(gbif_df,\n",
    "    geometry=gpd.points_from_xy(gbif_df.decimalLongitude, gbif_df.decimalLatitude),\n",
    "    crs=\"EPSG:4326\"\n",
    ")\n",
    "gbif_df\n",
    "print(gbif_gdf.head)"
   ]
  },
  {
   "cell_type": "code",
   "execution_count": 4,
   "id": "2044dcf9",
   "metadata": {},
   "outputs": [
    {
     "data": {
      "text/plain": [
       "gbifID\n",
       "4158712344      POINT (-82.5092 41.9137)\n",
       "4923515059    POINT (-87.61172 41.85281)\n",
       "4923522410    POINT (-87.61172 41.85281)\n",
       "4923520798    POINT (-87.61172 41.85281)\n",
       "4923520314    POINT (-87.63013 41.88036)\n",
       "                         ...            \n",
       "4423534780      POINT (-75.1254 40.0626)\n",
       "4524632357      POINT (-89.8049 44.6967)\n",
       "4173211734      POINT (-82.4753 42.0478)\n",
       "4173216429      POINT (-74.5468 46.1638)\n",
       "4423531794      POINT (-75.1254 40.0626)\n",
       "Name: geometry, Length: 165614, dtype: geometry"
      ]
     },
     "execution_count": 4,
     "metadata": {},
     "output_type": "execute_result"
    }
   ],
   "source": [
    "%store -r gbif_gdf\n",
    "gbif_gdf.columns\n",
    "gbif_gdf['geometry']\n"
   ]
  },
  {
   "cell_type": "code",
   "execution_count": 7,
   "id": "47a8e3e3",
   "metadata": {},
   "outputs": [
    {
     "data": {
      "text/html": [
       "<div>\n",
       "<style scoped>\n",
       "    .dataframe tbody tr th:only-of-type {\n",
       "        vertical-align: middle;\n",
       "    }\n",
       "\n",
       "    .dataframe tbody tr th {\n",
       "        vertical-align: top;\n",
       "    }\n",
       "\n",
       "    .dataframe thead th {\n",
       "        text-align: right;\n",
       "    }\n",
       "</style>\n",
       "<table border=\"1\" class=\"dataframe\">\n",
       "  <thead>\n",
       "    <tr style=\"text-align: right;\">\n",
       "      <th></th>\n",
       "      <th>month_left</th>\n",
       "      <th>geometry</th>\n",
       "      <th>gbifID_right</th>\n",
       "      <th>month_right</th>\n",
       "    </tr>\n",
       "    <tr>\n",
       "      <th>gbifID_left</th>\n",
       "      <th></th>\n",
       "      <th></th>\n",
       "      <th></th>\n",
       "      <th></th>\n",
       "    </tr>\n",
       "  </thead>\n",
       "  <tbody>\n",
       "    <tr>\n",
       "      <th>4158712344</th>\n",
       "      <td>5</td>\n",
       "      <td>POINT (-82.5092 41.9137)</td>\n",
       "      <td>4160682266</td>\n",
       "      <td>5</td>\n",
       "    </tr>\n",
       "    <tr>\n",
       "      <th>4158712344</th>\n",
       "      <td>5</td>\n",
       "      <td>POINT (-82.5092 41.9137)</td>\n",
       "      <td>4158712344</td>\n",
       "      <td>5</td>\n",
       "    </tr>\n",
       "    <tr>\n",
       "      <th>4158712344</th>\n",
       "      <td>5</td>\n",
       "      <td>POINT (-82.5092 41.9137)</td>\n",
       "      <td>4158747133</td>\n",
       "      <td>5</td>\n",
       "    </tr>\n",
       "    <tr>\n",
       "      <th>4158712344</th>\n",
       "      <td>5</td>\n",
       "      <td>POINT (-82.5092 41.9137)</td>\n",
       "      <td>4160038797</td>\n",
       "      <td>5</td>\n",
       "    </tr>\n",
       "    <tr>\n",
       "      <th>4158712344</th>\n",
       "      <td>5</td>\n",
       "      <td>POINT (-82.5092 41.9137)</td>\n",
       "      <td>4157001090</td>\n",
       "      <td>5</td>\n",
       "    </tr>\n",
       "    <tr>\n",
       "      <th>...</th>\n",
       "      <td>...</td>\n",
       "      <td>...</td>\n",
       "      <td>...</td>\n",
       "      <td>...</td>\n",
       "    </tr>\n",
       "    <tr>\n",
       "      <th>4423531794</th>\n",
       "      <td>9</td>\n",
       "      <td>POINT (-75.1254 40.0626)</td>\n",
       "      <td>4423529772</td>\n",
       "      <td>9</td>\n",
       "    </tr>\n",
       "    <tr>\n",
       "      <th>4423531794</th>\n",
       "      <td>9</td>\n",
       "      <td>POINT (-75.1254 40.0626)</td>\n",
       "      <td>4423533803</td>\n",
       "      <td>9</td>\n",
       "    </tr>\n",
       "    <tr>\n",
       "      <th>4423531794</th>\n",
       "      <td>9</td>\n",
       "      <td>POINT (-75.1254 40.0626)</td>\n",
       "      <td>4423532798</td>\n",
       "      <td>9</td>\n",
       "    </tr>\n",
       "    <tr>\n",
       "      <th>4423531794</th>\n",
       "      <td>9</td>\n",
       "      <td>POINT (-75.1254 40.0626)</td>\n",
       "      <td>4423528785</td>\n",
       "      <td>9</td>\n",
       "    </tr>\n",
       "    <tr>\n",
       "      <th>4423531794</th>\n",
       "      <td>9</td>\n",
       "      <td>POINT (-75.1254 40.0626)</td>\n",
       "      <td>4423529759</td>\n",
       "      <td>9</td>\n",
       "    </tr>\n",
       "  </tbody>\n",
       "</table>\n",
       "<p>10968880 rows × 4 columns</p>\n",
       "</div>"
      ],
      "text/plain": [
       "             month_left                  geometry  gbifID_right  month_right\n",
       "gbifID_left                                                                 \n",
       "4158712344            5  POINT (-82.5092 41.9137)    4160682266            5\n",
       "4158712344            5  POINT (-82.5092 41.9137)    4158712344            5\n",
       "4158712344            5  POINT (-82.5092 41.9137)    4158747133            5\n",
       "4158712344            5  POINT (-82.5092 41.9137)    4160038797            5\n",
       "4158712344            5  POINT (-82.5092 41.9137)    4157001090            5\n",
       "...                 ...                       ...           ...          ...\n",
       "4423531794            9  POINT (-75.1254 40.0626)    4423529772            9\n",
       "4423531794            9  POINT (-75.1254 40.0626)    4423533803            9\n",
       "4423531794            9  POINT (-75.1254 40.0626)    4423532798            9\n",
       "4423531794            9  POINT (-75.1254 40.0626)    4423528785            9\n",
       "4423531794            9  POINT (-75.1254 40.0626)    4423529759            9\n",
       "\n",
       "[10968880 rows x 4 columns]"
      ]
     },
     "execution_count": 7,
     "metadata": {},
     "output_type": "execute_result"
    }
   ],
   "source": [
    "gbif_ecoregion_gdf = (\n",
    "    gbif_gdf.to_crs(epsg=4326)\n",
    "    # Match the CRS of the GBIF data and the ecoregions\n",
    "    \n",
    "    # Find ecoregion for each observation\n",
    "    .sjoin(\n",
    "        gbif_gdf,\n",
    "        how='inner', \n",
    "        predicate='contains')\n",
    ")\n",
    "gbif_ecoregion_gdf"
   ]
  },
  {
   "cell_type": "code",
   "execution_count": null,
   "id": "1f9239db",
   "metadata": {},
   "outputs": [],
   "source": [
    "occurrence_df = (\n",
    "    gbif_ecoregion_gdf\n",
    "    # Select only necessary columns\n",
    "    # Reset index\n",
    "    .reset_index()\n",
    "    # For each ecoregion, for each month...\n",
    "    .groupby(['ecoregion_id','month'])\n",
    "    # ...count the name of occurrences\n",
    "    .agg\n",
    "    (occurrences=('gbifID', 'count'),\n",
    "     area= ('area' ,'first'))\n",
    ")\n",
    " \n",
    "# Normalize by area\n",
    "occurrence_df['density'] = (\n",
    "    occurrence_df.occurrences\n",
    "    / occurrence_df.area\n",
    ")\n",
    "# Get rid of rare observations (possible misidentification?)\n",
    "occurrence_df = occurrence_df[occurrence_df.occurrences>1]\n",
    "\n",
    "# Take the mean by ecoregion\n",
    "mean_occurrences_by_ecoregion = (\n",
    "    occurrence_df\n",
    "    .groupby('ecoregion_id')\n",
    "    .mean()\n",
    ")\n",
    "# Take the mean by month\n",
    "mean_occurrences_by_month = (\n",
    "    occurrence_df\n",
    "    .groupby('month')\n",
    "    .mean()\n",
    "    \n",
    ")"
   ]
  },
  {
   "cell_type": "code",
   "execution_count": null,
   "id": "e7575ed0",
   "metadata": {},
   "outputs": [],
   "source": [
    "# Normalize by space and time for sampling effort\n",
    "# Was stuck on this becuase a lack of famliarity \n",
    "# Got past it and will remember for net time \n",
    "occurrence_df['norm_occurrences'] = (\n",
    "    occurrence_df[['density']]\n",
    "    /mean_occurrences_by_ecoregion[['density']]\n",
    "    /mean_occurrences_by_month[['density']]\n",
    ")\n",
    "occurrence_df"
   ]
  },
  {
   "cell_type": "code",
   "execution_count": null,
   "id": "eb20a1dc",
   "metadata": {},
   "outputs": [],
   "source": [
    "occurrence_df.reset_index().plot.scatter(\n",
    "    x='month' , y='norm_occurrences' , c='ecoregion_id',\n",
    "    logy=True\n",
    ")"
   ]
  },
  {
   "cell_type": "markdown",
   "id": "59568f0e",
   "metadata": {},
   "source": [
    "# From plot note book"
   ]
  },
  {
   "cell_type": "code",
   "execution_count": null,
   "id": "c769927e",
   "metadata": {},
   "outputs": [],
   "source": [
    "# Simplify the geometry to speed up processing\n",
    "eco_gdf.geometry = eco_gdf.simplify(.01, preserve_topology=False)\n",
    "# Change the CRS to Mercator for mapping\n",
    "eco_gdf = eco_gdf.to_crs(ccrs.Mercator())\n",
    "\n",
    "# Check that the plot runs in a reasonable amount of time\n",
    "eco_gdf.hvplot(geo=True, crs=ccrs.Mercator())"
   ]
  },
  {
   "cell_type": "code",
   "execution_count": null,
   "id": "a439c925",
   "metadata": {},
   "outputs": [],
   "source": [
    "occurrence_df[['norm_occurrences']].head()"
   ]
  },
  {
   "cell_type": "code",
   "execution_count": null,
   "id": "71894bb9",
   "metadata": {},
   "outputs": [
    {
     "ename": "NameError",
     "evalue": "name 'eco_gdf' is not defined",
     "output_type": "error",
     "traceback": [
      "\u001b[31m---------------------------------------------------------------------------\u001b[39m",
      "\u001b[31mNameError\u001b[39m                                 Traceback (most recent call last)",
      "\u001b[36mCell\u001b[39m\u001b[36m \u001b[39m\u001b[32mIn[2]\u001b[39m\u001b[32m, line 2\u001b[39m\n\u001b[32m      1\u001b[39m \u001b[38;5;66;03m# Join the occurrences with the plotting GeoDataFrame\u001b[39;00m\n\u001b[32m----> \u001b[39m\u001b[32m2\u001b[39m occurrence_gdf = \u001b[43meco_gdf\u001b[49m.join(occurrence_df[[\u001b[33m'\u001b[39m\u001b[33mnorm_occurrences\u001b[39m\u001b[33m'\u001b[39m]])\n\u001b[32m      4\u001b[39m \u001b[38;5;66;03m# Get the plot bounds so they don't change with the slider\u001b[39;00m\n\u001b[32m      5\u001b[39m xmin, ymin, xmax, ymax = gbif_gdf.to_crs(ccrs.Mercator()).total_bounds\n",
      "\u001b[31mNameError\u001b[39m: name 'eco_gdf' is not defined"
     ]
    }
   ],
   "source": [
    "# Join the occurrences with the plotting GeoDataFrame\n",
    "occurrence_gdf = eco_gdf.join(occurrence_df[['norm_occurrences']])\n",
    "\n",
    "# Get the plot bounds so they don't change with the slider\n",
    "xmin, ymin, xmax, ymax = gbif_gdf.to_crs(ccrs.Mercator()).total_bounds\n",
    "\n",
    "# Plot occurrence by ecoregion and month\n",
    "migration_plot = (\n",
    "    occurrence_gdf\n",
    "    .to_crs(ccrs.Mercator())\n",
    "    .hvplot(\n",
    "        c='norm_occurrences',\n",
    "        groupby='month',\n",
    "        # Use background tiles\n",
    "        geo=True, crs=ccrs.Mercator(), tiles='CartoLight',\n",
    "        title=\"Veery Migration\",\n",
    "        xlim=(xmin, xmax), ylim=(ymin, ymax),\n",
    "        frame_height=600,\n",
    "        widget_location='bottom'\n",
    "    )\n",
    ")\n",
    "\n",
    "#Save the plot\n",
    "migration_plot.save('migration.html', embed=True)\n",
    "\n",
    "# Show the plot\n",
    "migration_plot"
   ]
  }
 ],
 "metadata": {
  "kernelspec": {
   "display_name": "base",
   "language": "python",
   "name": "python3"
  },
  "language_info": {
   "codemirror_mode": {
    "name": "ipython",
    "version": 3
   },
   "file_extension": ".py",
   "mimetype": "text/x-python",
   "name": "python",
   "nbconvert_exporter": "python",
   "pygments_lexer": "ipython3",
   "version": "3.11.6"
  }
 },
 "nbformat": 4,
 "nbformat_minor": 5
}
