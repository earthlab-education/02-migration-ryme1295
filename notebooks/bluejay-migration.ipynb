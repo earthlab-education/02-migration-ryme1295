{
 "cells": [
  {
   "cell_type": "markdown",
   "id": "3c574c8f",
   "metadata": {},
   "source": [
    "# From normalize notebook"
   ]
  },
  {
   "cell_type": "code",
   "execution_count": 1,
   "id": "47a8e3e3",
   "metadata": {},
   "outputs": [
    {
     "ename": "NameError",
     "evalue": "name 'eco_gdf' is not defined",
     "output_type": "error",
     "traceback": [
      "\u001b[31m---------------------------------------------------------------------------\u001b[39m",
      "\u001b[31mNameError\u001b[39m                                 Traceback (most recent call last)",
      "\u001b[36mCell\u001b[39m\u001b[36m \u001b[39m\u001b[32mIn[1]\u001b[39m\u001b[32m, line 2\u001b[39m\n\u001b[32m      1\u001b[39m gbif_ecoregion_gdf = (\n\u001b[32m----> \u001b[39m\u001b[32m2\u001b[39m     \u001b[43meco_gdf\u001b[49m\n\u001b[32m      3\u001b[39m     \u001b[38;5;66;03m# Match the CRS of the GBIF data and the ecoregions\u001b[39;00m\n\u001b[32m      4\u001b[39m     .to_crs(gbif_gdf.crs)\n\u001b[32m      5\u001b[39m     \u001b[38;5;66;03m# Find ecoregion for each observation\u001b[39;00m\n\u001b[32m      6\u001b[39m     .sjoin(\n\u001b[32m      7\u001b[39m         gbif_gdf,\n\u001b[32m      8\u001b[39m         how=\u001b[33m'\u001b[39m\u001b[33minner\u001b[39m\u001b[33m'\u001b[39m, \n\u001b[32m      9\u001b[39m         predicate=\u001b[33m'\u001b[39m\u001b[33mcontains\u001b[39m\u001b[33m'\u001b[39m)\n\u001b[32m     10\u001b[39m )\n\u001b[32m     11\u001b[39m gbif_ecoregion_gdf\n",
      "\u001b[31mNameError\u001b[39m: name 'eco_gdf' is not defined"
     ]
    }
   ],
   "source": [
    "gbif_ecoregion_gdf = (\n",
    "    eco_gdf\n",
    "    # Match the CRS of the GBIF data and the ecoregions\n",
    "    .to_crs(gbif_gdf.crs)\n",
    "    # Find ecoregion for each observation\n",
    "    .sjoin(\n",
    "        gbif_gdf,\n",
    "        how='inner', \n",
    "        predicate='contains')\n",
    ")\n",
    "gbif_ecoregion_gdf"
   ]
  },
  {
   "cell_type": "code",
   "execution_count": null,
   "id": "1f9239db",
   "metadata": {},
   "outputs": [],
   "source": [
    "occurrence_df = (\n",
    "    gbif_ecoregion_gdf\n",
    "    # Select only necessary columns\n",
    "    # Reset index\n",
    "    .reset_index()\n",
    "    # For each ecoregion, for each month...\n",
    "    .groupby(['ecoregion_id','month'])\n",
    "    # ...count the name of occurrences\n",
    "    .agg\n",
    "    (occurrences=('gbifID', 'count'),\n",
    "     area= ('area' ,'first'))\n",
    ")\n",
    " \n",
    "# Normalize by area\n",
    "occurrence_df['density'] = (\n",
    "    occurrence_df.occurrences\n",
    "    / occurrence_df.area\n",
    ")\n",
    "# Get rid of rare observations (possible misidentification?)\n",
    "occurrence_df = occurrence_df[occurrence_df.occurrences>1]\n",
    "\n",
    "# Take the mean by ecoregion\n",
    "mean_occurrences_by_ecoregion = (\n",
    "    occurrence_df\n",
    "    .groupby('ecoregion_id')\n",
    "    .mean()\n",
    ")\n",
    "# Take the mean by month\n",
    "mean_occurrences_by_month = (\n",
    "    occurrence_df\n",
    "    .groupby('month')\n",
    "    .mean()\n",
    "    \n",
    ")"
   ]
  },
  {
   "cell_type": "code",
   "execution_count": null,
   "id": "e7575ed0",
   "metadata": {},
   "outputs": [],
   "source": [
    "# Normalize by space and time for sampling effort\n",
    "# Was stuck on this becuase a lack of famliarity \n",
    "# Got past it and will remember for net time \n",
    "occurrence_df['norm_occurrences'] = (\n",
    "    occurrence_df[['density']]\n",
    "    /mean_occurrences_by_ecoregion[['density']]\n",
    "    /mean_occurrences_by_month[['density']]\n",
    ")\n",
    "occurrence_df"
   ]
  },
  {
   "cell_type": "code",
   "execution_count": null,
   "id": "eb20a1dc",
   "metadata": {},
   "outputs": [],
   "source": [
    "occurrence_df.reset_index().plot.scatter(\n",
    "    x='month' , y='norm_occurrences' , c='ecoregion_id',\n",
    "    logy=True\n",
    ")"
   ]
  },
  {
   "cell_type": "markdown",
   "id": "59568f0e",
   "metadata": {},
   "source": [
    "# From plot note book"
   ]
  },
  {
   "cell_type": "code",
   "execution_count": null,
   "id": "c769927e",
   "metadata": {},
   "outputs": [],
   "source": [
    "# Simplify the geometry to speed up processing\n",
    "eco_gdf.geometry = eco_gdf.simplify(.01, preserve_topology=False)\n",
    "# Change the CRS to Mercator for mapping\n",
    "eco_gdf = eco_gdf.to_crs(ccrs.Mercator())\n",
    "\n",
    "# Check that the plot runs in a reasonable amount of time\n",
    "eco_gdf.hvplot(geo=True, crs=ccrs.Mercator())"
   ]
  },
  {
   "cell_type": "code",
   "execution_count": null,
   "id": "a439c925",
   "metadata": {},
   "outputs": [],
   "source": [
    "occurrence_df[['norm_occurrences']].head()"
   ]
  },
  {
   "cell_type": "code",
   "execution_count": null,
   "id": "71894bb9",
   "metadata": {},
   "outputs": [],
   "source": [
    "# Join the occurrences with the plotting GeoDataFrame\n",
    "occurrence_gdf = eco_gdf.join(occurrence_df[['norm_occurrences']])\n",
    "\n",
    "# Get the plot bounds so they don't change with the slider\n",
    "xmin, ymin, xmax, ymax = gbif_gdf.to_crs(ccrs.Mercator()).total_bounds\n",
    "\n",
    "# Plot occurrence by ecoregion and month\n",
    "migration_plot = (\n",
    "    occurrence_gdf\n",
    "    .to_crs(ccrs.Mercator())\n",
    "    .hvplot(\n",
    "        c='norm_occurrences',\n",
    "        groupby='month',\n",
    "        # Use background tiles\n",
    "        geo=True, crs=ccrs.Mercator(), tiles='CartoLight',\n",
    "        title=\"Veery Migration\",\n",
    "        xlim=(xmin, xmax), ylim=(ymin, ymax),\n",
    "        frame_height=600,\n",
    "        widget_location='bottom'\n",
    "    )\n",
    ")\n",
    "\n",
    "#Save the plot\n",
    "migration_plot.save('migration.html', embed=True)\n",
    "\n",
    "# Show the plot\n",
    "migration_plot"
   ]
  }
 ],
 "metadata": {
  "kernelspec": {
   "display_name": "base",
   "language": "python",
   "name": "python3"
  },
  "language_info": {
   "codemirror_mode": {
    "name": "ipython",
    "version": 3
   },
   "file_extension": ".py",
   "mimetype": "text/x-python",
   "name": "python",
   "nbconvert_exporter": "python",
   "pygments_lexer": "ipython3",
   "version": "3.11.6"
  }
 },
 "nbformat": 4,
 "nbformat_minor": 5
}
