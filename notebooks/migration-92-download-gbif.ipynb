{
  "cells": [
    {
      "cell_type": "markdown",
      "id": "499716e2-65b1-4c8e-a525-28c1ee8adddf",
      "metadata": {},
      "source": [
        "# Migration Data Download\n",
        "\n",
        "Get occurrence data from the Global Biodiversity Information Facility\n",
        "(GBIF)\n",
        "\n",
        "<link rel=\"stylesheet\" type=\"text/css\" href=\"./assets/styles.css\"><div class=\"callout callout-style-default callout-titled callout-task\"><div class=\"callout-header\"><div class=\"callout-icon-container\"><i class=\"callout-icon\"></i></div><div class=\"callout-title-container flex-fill\">Try It: Import packages</div></div><div class=\"callout-body-container callout-body\"><p>In the imports cell, we’ve included some packages that you will need.\n",
        "Add imports for packages that will help you:</p>\n",
        "<ol type=\"1\">\n",
        "<li>Work with reproducible file paths</li>\n",
        "<li>Work with tabular data</li>\n",
        "</ol></div></div>"
      ]
    },
    {
      "cell_type": "code",
      "execution_count": 1,
      "id": "8710bf77",
      "metadata": {
        "template": "student"
      },
      "outputs": [],
      "source": [
        "import time\n",
        "import zipfile\n",
        "from getpass import getpass\n",
        "from glob import glob\n",
        "\n",
        "import pygbif.occurrences as occ\n",
        "import pygbif.species as species\n",
        "import requests\n",
        "\n",
        "import earthpy\n",
        "import os\n",
        "import pathlib\n",
        "import pandas as pd\n"
      ]
    },
    {
      "cell_type": "markdown",
      "id": "a5a7d036-2a16-4cad-a33b-6f440f336402",
      "metadata": {},
      "source": [
        "For this challenge, you will need to download some data to the computer\n",
        "you’re working on. We suggest using the `earthpy` library we develop to\n",
        "manage your downloads, since it encapsulates many best practices as far\n",
        "as:\n",
        "\n",
        "1.  Where to store your data\n",
        "2.  Dealing with archived data like .zip files\n",
        "3.  Avoiding version control problems\n",
        "4.  Making sure your code works cross-platform\n",
        "5.  Avoiding duplicate downloads\n",
        "\n",
        "If you’re working on one of our assignments through GitHub Classroom, it\n",
        "also lets us build in some handy defaults so that you can see your data\n",
        "files while you work.\n",
        "\n",
        "<link rel=\"stylesheet\" type=\"text/css\" href=\"./assets/styles.css\"><div class=\"callout callout-style-default callout-titled callout-task\"><div class=\"callout-header\"><div class=\"callout-icon-container\"><i class=\"callout-icon\"></i></div><div class=\"callout-title-container flex-fill\">Try It: Create a project folder</div></div><div class=\"callout-body-container callout-body\"><p>The code below will help you get started with making a project\n",
        "directory</p>\n",
        "<ol type=\"1\">\n",
        "<li>Replace <code>'your-project-directory-name-here'</code> with a\n",
        "<strong>descriptive</strong> name</li>\n",
        "<li>Run the cell</li>\n",
        "<li>The code should have printed out the path to your data files. Check\n",
        "that your data directory exists and has data in it using the terminal or\n",
        "your Finder/File Explorer.</li>\n",
        "</ol></div></div>\n",
        "\n",
        "> **File structure**\n",
        ">\n",
        "> These days, a lot of people find your file by searching for them or\n",
        "> selecting from a `Bookmarks` or `Recents` list. Even if you don’t use\n",
        "> it, your computer also keeps files in a **tree** structure of folders.\n",
        "> Put another way, you can organize and find files by travelling along a\n",
        "> unique **path**, e.g. `My Drive` \\> `Documents` \\>\n",
        "> `My awesome project` \\> `A project file` where each subsequent folder\n",
        "> is **inside** the previous one. This is convenient because all the\n",
        "> files for a project can be in the same place, and both people and\n",
        "> computers can rapidly locate files they want, provided they remember\n",
        "> the path.\n",
        ">\n",
        "> You may notice that when Python prints out a file path like this, the\n",
        "> folder names are **separated** by a `/` or `\\` (depending on your\n",
        "> operating system). This character is called the **file separator**,\n",
        "> and it tells you that the next piece of the path is **inside** the\n",
        "> previous one."
      ]
    },
    {
      "cell_type": "code",
      "execution_count": 2,
      "id": "350445b5",
      "metadata": {
        "template": "student"
      },
      "outputs": [
        {
          "data": {
            "text/plain": [
              "PosixPath('/workspaces/data/gbif-download')"
            ]
          },
          "execution_count": 2,
          "metadata": {},
          "output_type": "execute_result"
        }
      ],
      "source": [
        "# Create data directory\n",
        "project = earthpy.Project(\n",
        "    dirname='gbif-download')\n",
        "\n",
        "# Display the project directory\n",
        "project.project_dir"
      ]
    },
    {
      "cell_type": "markdown",
      "id": "fcacff13-2eda-4474-ae4d-8985a615a148",
      "metadata": {},
      "source": [
        "### STEP 1: Register and log in to GBIF\n",
        "\n",
        "You will need a [GBIF account](https://www.gbif.org/) to complete this\n",
        "challenge. You can use your GitHub account to authenticate with GBIF.\n",
        "Then, run the following code to enter your credentials for the rest of\n",
        "your session.\n",
        "\n",
        "<link rel=\"stylesheet\" type=\"text/css\" href=\"./assets/styles.css\"><div class=\"callout callout-style-default callout-error\"><div class=\"callout-header\"><div class=\"callout-icon-container\"><i class=\"callout-icon\"></i></div></div><div class=\"callout-body-container callout-body\"><p>This code is <strong>interactive</strong>, meaning that it will\n",
        "<strong>ask you for a response</strong>! The prompt can sometimes be\n",
        "hard to see if you are using VSCode – it appears at the\n",
        "<strong>top</strong> of your editor window.</p></div></div>\n",
        "\n",
        "> **Tip**\n",
        ">\n",
        "> If you need to save credentials across multiple sessions, you can\n",
        "> consider loading them in from a file like a `.env`…but make sure to\n",
        "> add it to .gitignore so you don’t commit your credentials to your\n",
        "> repository!\n",
        "\n",
        "> **Warning**\n",
        ">\n",
        "> Your email address **must** match the email you used to sign up for\n",
        "> GBIF!\n",
        "\n",
        "> **Tip**\n",
        ">\n",
        "> If you accidentally enter your credentials wrong, you can set\n",
        "> `reset=True` instead of `reset=False`."
      ]
    },
    {
      "cell_type": "code",
      "execution_count": 3,
      "id": "fe449f8a",
      "metadata": {},
      "outputs": [],
      "source": [
        "####--------------------------####\n",
        "#### DO NOT MODIFY THIS CODE! ####\n",
        "####--------------------------####\n",
        "# This code ASKS for your credentials \n",
        "# and saves it for the rest of the session.\n",
        "# NEVER put your credentials into your code!!!!\n",
        "\n",
        "# GBIF needs a username, password, and email \n",
        "# All 3 need to match the account\n",
        "reset = False\n",
        "\n",
        "# Request and store username\n",
        "if (not ('GBIF_USER'  in os.environ)) or reset:\n",
        "    os.environ['GBIF_USER'] = input('GBIF username:')\n",
        "\n",
        "# Securely request and store password\n",
        "if (not ('GBIF_PWD'  in os.environ)) or reset:\n",
        "    os.environ['GBIF_PWD'] = getpass('GBIF password:')\n",
        "    \n",
        "# Request and store account email address\n",
        "if (not ('GBIF_EMAIL'  in os.environ)) or reset:\n",
        "    os.environ['GBIF_EMAIL'] = input('GBIF email:')"
      ]
    },
    {
      "cell_type": "markdown",
      "id": "3586b2e0-3968-44a4-bb25-22d516ddd5d1",
      "metadata": {},
      "source": [
        "### STEP 2: Get the taxon key from GBIF\n",
        "\n",
        "One of the tricky parts about getting occurrence data from GBIF is that\n",
        "species often have multiple names in different contexts. Luckily, GBIF\n",
        "also provides a Name Backbone service that will translate scientific and\n",
        "colloquial names into unique identifiers. GBIF calls these identifiers\n",
        "**taxon keys**.\n",
        "\n",
        "<link rel=\"stylesheet\" type=\"text/css\" href=\"./assets/styles.css\"><div class=\"callout callout-style-default callout-titled callout-task\"><div class=\"callout-header\"><div class=\"callout-icon-container\"><i class=\"callout-icon\"></i></div><div class=\"callout-title-container flex-fill\">Try It</div></div><div class=\"callout-body-container callout-body\"><ol type=\"1\">\n",
        "<li>Put the species name, <code>{python}  scientific_name</code>, into\n",
        "the correct location in the code below.</li>\n",
        "<li>Examine the object you get back from the species query. What part of\n",
        "it do you think might be the taxon key?</li>\n",
        "<li>Extract and save the taxon key</li>\n",
        "</ol></div></div>"
      ]
    },
    {
      "cell_type": "code",
      "execution_count": 4,
      "id": "6d361296",
      "metadata": {
        "template": "student"
      },
      "outputs": [
        {
          "data": {
            "text/plain": [
              "{'usageKey': 2482593,\n",
              " 'scientificName': 'Cyanocitta cristata (Linnaeus, 1758)',\n",
              " 'canonicalName': 'Cyanocitta cristata',\n",
              " 'rank': 'SPECIES',\n",
              " 'status': 'ACCEPTED',\n",
              " 'confidence': 99,\n",
              " 'matchType': 'EXACT',\n",
              " 'kingdom': 'Animalia',\n",
              " 'phylum': 'Chordata',\n",
              " 'order': 'Passeriformes',\n",
              " 'family': 'Corvidae',\n",
              " 'genus': 'Cyanocitta',\n",
              " 'species': 'Cyanocitta cristata',\n",
              " 'kingdomKey': 1,\n",
              " 'phylumKey': 44,\n",
              " 'classKey': 212,\n",
              " 'orderKey': 729,\n",
              " 'familyKey': 5235,\n",
              " 'genusKey': 2482592,\n",
              " 'speciesKey': 2482593,\n",
              " 'class': 'Aves'}"
            ]
          },
          "execution_count": 4,
          "metadata": {},
          "output_type": "execute_result"
        }
      ],
      "source": [
        "backbone = species.name_backbone(name=\"Cyanocitta cristata\")\n",
        "backbone"
      ]
    },
    {
      "cell_type": "markdown",
      "id": "f452db5f-305a-456d-a9e3-2b114530d129",
      "metadata": {},
      "source": [
        "### STEP 3: Download data from GBIF\n",
        "\n",
        "Downloading GBIF data is a multi-step process. However, we’ve provided\n",
        "you with a chunk of code that handles the API communications and caches\n",
        "the download. You’ll still need to customize your search.\n",
        "\n",
        "<link rel=\"stylesheet\" type=\"text/css\" href=\"./assets/styles.css\"><div class=\"callout callout-style-default callout-titled callout-task\"><div class=\"callout-header\"><div class=\"callout-icon-container\"><i class=\"callout-icon\"></i></div><div class=\"callout-title-container flex-fill\">Try It: Submit a request to GBIF</div></div><div class=\"callout-body-container callout-body\"><ol type=\"1\">\n",
        "<li><p>Replace <code>csv_file_pattern</code> with a string that will\n",
        "match <strong>any</strong> <code>.csv</code> file when used in the\n",
        "<code>.rglob()</code> method. HINT: the character <code>*</code>\n",
        "represents any number of any values except the file separator\n",
        "(e.g. <code>/</code> on UNIX systems)</p></li>\n",
        "<li><p>Add parameters to the GBIF download function,\n",
        "<code>occ.download()</code> to limit your query to:</p>\n",
        "<ul>\n",
        "<li>observations of <span data-__quarto_custom=\"true\"\n",
        "data-__quarto_custom_type=\"Shortcode\"\n",
        "data-__quarto_custom_context=\"Inline\"\n",
        "data-__quarto_custom_id=\"8\"></span></li>\n",
        "<li>from <span data-__quarto_custom=\"true\"\n",
        "data-__quarto_custom_type=\"Shortcode\"\n",
        "data-__quarto_custom_context=\"Inline\"\n",
        "data-__quarto_custom_id=\"9\"></span></li>\n",
        "<li>with spatial coordinates.</li>\n",
        "</ul></li>\n",
        "<li><p>Then, run the download. <strong>This can take a few\n",
        "minutes</strong>. You can check your downloads by logging on to the <a\n",
        "href=\"https://www.gbif.org/user/download\">GBIF website</a>.</p></li>\n",
        "</ol></div></div>"
      ]
    },
    {
      "cell_type": "code",
      "execution_count": 5,
      "id": "0f432a70",
      "metadata": {
        "template": "student"
      },
      "outputs": [
        {
          "data": {
            "text/plain": [
              "PosixPath('/workspaces/data/gbif-download/0048446-251009101135966.csv')"
            ]
          },
          "execution_count": 5,
          "metadata": {},
          "output_type": "execute_result"
        }
      ],
      "source": [
        "# Only download once\n",
        "if not any(project.project_dir.rglob('*.csv')):\n",
        "    # Only submit one request\n",
        "    if not 'GBIF_DOWNLOAD_KEY' in os.environ:\n",
        "        # Submit query to GBIF\n",
        "        gbif_query = occ.download([\n",
        "            f'taxonKey = 2482593',\n",
        "            'hasCoordinate = TRUE',\n",
        "            f'year = 2023',\n",
        "        ])\n",
        "        # Take first result\n",
        "        os.environ['GBIF_DOWNLOAD_KEY'] = gbif_query[0]\n",
        "\n",
        "    # Wait for the download to build\n",
        "    dld_key = os.environ['GBIF_DOWNLOAD_KEY']\n",
        "    wait = occ.download_meta(dld_key)['status']\n",
        "    while not wait=='SUCCEEDED':\n",
        "        wait = occ.download_meta(dld_key)['status']\n",
        "        time.sleep(5)\n",
        "\n",
        "    # Download GBIF data\n",
        "    dld_info = occ.download_get(\n",
        "        os.environ['GBIF_DOWNLOAD_KEY'], \n",
        "        path=project.project_dir)\n",
        "    dld_path = dld_info['path']\n",
        "\n",
        "    # Unzip GBIF data\n",
        "    with zipfile.ZipFile(dld_path) as dld_zip:\n",
        "        dld_zip.extractall(path=project.project_dir)\n",
        "        \n",
        "    # Clean up the .zip file\n",
        "    os.remove(dld_path)\n",
        "\n",
        "# Find the extracted .csv file path (first result)\n",
        "original_gbif_path = next(\n",
        "    project.project_dir.rglob('*.csv'))\n",
        "original_gbif_path"
      ]
    },
    {
      "cell_type": "markdown",
      "id": "52cb7205-ef67-48e0-a318-7fba28465682",
      "metadata": {},
      "source": [
        "You might notice that the GBIF data filename isn’t very\n",
        "**descriptive**…at this point, you may want to clean up your data\n",
        "directory so that you know what the file is later on!\n",
        "\n",
        "<link rel=\"stylesheet\" type=\"text/css\" href=\"./assets/styles.css\"><div class=\"callout callout-style-default callout-titled callout-task\"><div class=\"callout-header\"><div class=\"callout-icon-container\"><i class=\"callout-icon\"></i></div><div class=\"callout-title-container flex-fill\">Try It</div></div><div class=\"callout-body-container callout-body\"><ol type=\"1\">\n",
        "<li>Replace ‘your-gbif-filename’ with a <strong>descriptive</strong>\n",
        "name.</li>\n",
        "<li>Run the cell</li>\n",
        "<li>Check your data folder. Is it organized the way you want?</li>\n",
        "</ol></div></div>"
      ]
    },
    {
      "cell_type": "code",
      "execution_count": 6,
      "id": "f3d48139",
      "metadata": {
        "template": "student"
      },
      "outputs": [],
      "source": [
        "# Give the download a descriptive name\n",
        "gbif_path = project.project_dir / '0048446-251009101135966.csv'\n",
        "# Move file to descriptive path\n",
        "bluejay_migration = project.project_dir / 'gbif-download'"
      ]
    },
    {
      "cell_type": "markdown",
      "id": "47037264-65fc-4fb3-b43a-c53bcd4ba968",
      "metadata": {},
      "source": [
        "### STEP 4: Load the GBIF data into Python\n",
        "\n",
        "<link rel=\"stylesheet\" type=\"text/css\" href=\"./assets/styles.css\"><div class=\"callout callout-style-default callout-titled callout-task\"><div class=\"callout-header\"><div class=\"callout-icon-container\"><i class=\"callout-icon\"></i></div><div class=\"callout-title-container flex-fill\">Try It: Load GBIF data</div></div><div class=\"callout-body-container callout-body\"><p>Just like you did when wrangling your data from the data subset,\n",
        "you’ll need to load your GBIF data and convert it to a GeoDataFrame.</p></div></div>"
      ]
    },
    {
      "cell_type": "code",
      "execution_count": 7,
      "id": "dd402a2a",
      "metadata": {},
      "outputs": [
        {
          "name": "stdout",
          "output_type": "stream",
          "text": [
            "gbifID\tdatasetKey\toccurrenceID\tkingdom\tphylum\tclass\torder\tfamily\tgenus\tspecies\tinfraspecificEpithet\ttaxonRank\tscientificName\tverbatimScientificName\tverbatimScientificNameAuthorship\tcountryCode\tlocality\tstateProvince\toccurrenceStatus\tindividualCount\tpublishingOrgKey\tdecimalLatitude\tdecimalLongitude\tcoordinateUncertaintyInMeters\tcoordinatePrecision\televation\televationAccuracy\tdepth\tdepthAccuracy\teventDate\tday\tmonth\tyear\ttaxonKey\tspeciesKey\tbasisOfRecord\tinstitutionCode\tcollectionCode\tcatalogNumber\trecordNumber\tidentifiedBy\tdateIdentified\tlicense\trightsHolder\trecordedBy\ttypeStatus\testablishmentMeans\tlastInterpreted\tmediaType\tissue\n",
            "4923516522\t36f15a36-6b45-442e-9c31-cd633423aee0\t80571619-535f-4a46-b6ec-bc26d8d64760\tAnimalia\tChordata\tAves\tPasseriformes\tCorvidae\tCyanocitta\tCyanocitta cristata\tbromia\tSUBSPECIES\tCyanocitta cristata bromia Oberholser, 1921\tCyanocitta cristata bromia\t\tUS\tMcCormick Place\tIllinois\tPRESENT\t\t7b8aff00-a9f8-11d8-944b-b8a03c50a862\t41.852812\t-87.611721\t2454.0\t\t\t\t\t\t2023-05-12\t12\t5\t2023\t6171809\t2482593\tPRESERVED_SPECIMEN\tFMNH\tBirds\t530941\t4623213\t\t\tCC0_1_0\tThe Field Museum of Natural History\tD. E. Willard\t\t\t2025-10-07T19:21:28.597Z\t\tCOORDINATE_ROUNDED;INSTITUTION_MATCH_FUZZY;COLLECTION_MATCH_FUZZY\n"
          ]
        }
      ],
      "source": [
        "!head -n 2 $gbif_path"
      ]
    },
    {
      "cell_type": "code",
      "execution_count": 10,
      "id": "5f9e629b",
      "metadata": {
        "template": "student"
      },
      "outputs": [
        {
          "data": {
            "text/html": [
              "<div>\n",
              "<style scoped>\n",
              "    .dataframe tbody tr th:only-of-type {\n",
              "        vertical-align: middle;\n",
              "    }\n",
              "\n",
              "    .dataframe tbody tr th {\n",
              "        vertical-align: top;\n",
              "    }\n",
              "\n",
              "    .dataframe thead th {\n",
              "        text-align: right;\n",
              "    }\n",
              "</style>\n",
              "<table border=\"1\" class=\"dataframe\">\n",
              "  <thead>\n",
              "    <tr style=\"text-align: right;\">\n",
              "      <th></th>\n",
              "      <th>decimalLatitude</th>\n",
              "      <th>decimalLongitude</th>\n",
              "      <th>month</th>\n",
              "    </tr>\n",
              "    <tr>\n",
              "      <th>gbifID</th>\n",
              "      <th></th>\n",
              "      <th></th>\n",
              "      <th></th>\n",
              "    </tr>\n",
              "  </thead>\n",
              "  <tbody>\n",
              "    <tr>\n",
              "      <th>4923516522</th>\n",
              "      <td>41.852812</td>\n",
              "      <td>-87.611721</td>\n",
              "      <td>5</td>\n",
              "    </tr>\n",
              "    <tr>\n",
              "      <th>4444336266</th>\n",
              "      <td>29.755600</td>\n",
              "      <td>-95.739600</td>\n",
              "      <td>4</td>\n",
              "    </tr>\n",
              "    <tr>\n",
              "      <th>4444338185</th>\n",
              "      <td>29.950300</td>\n",
              "      <td>-95.445200</td>\n",
              "      <td>3</td>\n",
              "    </tr>\n",
              "    <tr>\n",
              "      <th>4444335183</th>\n",
              "      <td>29.629800</td>\n",
              "      <td>-95.323900</td>\n",
              "      <td>4</td>\n",
              "    </tr>\n",
              "    <tr>\n",
              "      <th>5196047463</th>\n",
              "      <td>40.003844</td>\n",
              "      <td>-105.028095</td>\n",
              "      <td>5</td>\n",
              "    </tr>\n",
              "  </tbody>\n",
              "</table>\n",
              "</div>"
            ],
            "text/plain": [
              "            decimalLatitude  decimalLongitude  month\n",
              "gbifID                                              \n",
              "4923516522        41.852812        -87.611721      5\n",
              "4444336266        29.755600        -95.739600      4\n",
              "4444338185        29.950300        -95.445200      3\n",
              "4444335183        29.629800        -95.323900      4\n",
              "5196047463        40.003844       -105.028095      5"
            ]
          },
          "execution_count": 10,
          "metadata": {},
          "output_type": "execute_result"
        }
      ],
      "source": [
        "# Load the GBIF data\n",
        "gbif_df = pd.read_csv(\n",
        "    gbif_path,\n",
        "    delimiter='\\t',\n",
        "    index_col='gbifID',\n",
        "    usecols=['gbifID', 'decimalLatitude', 'decimalLongitude', 'month']\n",
        "\n",
        ")\n",
        "gbif_df.head()\n",
        "# Convert to GeoDataFrame\n",
        "\n",
        "# Check results\n",
        "#gbif_gdf.total_bounds"
      ]
    },
    {
      "cell_type": "markdown",
      "id": "91c8f771-29c1-4deb-acd2-ce0cba5800c5",
      "metadata": {},
      "source": [
        "# STEP -1: Wrap up\n",
        "\n",
        "Don’t forget to store your variables so you can use them in other\n",
        "notebooks! Replace `var1` and `var2` with the variable you want to save,\n",
        "separated by spaces."
      ]
    },
    {
      "cell_type": "code",
      "execution_count": 11,
      "id": "b4ed5221",
      "metadata": {},
      "outputs": [
        {
          "name": "stdout",
          "output_type": "stream",
          "text": [
            "Stored 'gbif_df' (DataFrame)\n",
            "Stored 'project' (Project)\n"
          ]
        }
      ],
      "source": [
        "%store gbif_df project"
      ]
    },
    {
      "cell_type": "markdown",
      "id": "483de54c-9287-4ec3-ba27-26382dae3c62",
      "metadata": {},
      "source": [
        "Finally, be sure to `Restart` and `Run all` to make sure your notebook\n",
        "works all the way through!"
      ]
    }
  ],
  "metadata": {
    "kernelspec": {
      "display_name": "base",
      "language": "python",
      "name": "python3"
    },
    "language_info": {
      "codemirror_mode": {
        "name": "ipython",
        "version": 3
      },
      "file_extension": ".py",
      "mimetype": "text/x-python",
      "name": "python",
      "nbconvert_exporter": "python",
      "pygments_lexer": "ipython3",
      "version": "3.11.6"
    }
  },
  "nbformat": 4,
  "nbformat_minor": 5
}
